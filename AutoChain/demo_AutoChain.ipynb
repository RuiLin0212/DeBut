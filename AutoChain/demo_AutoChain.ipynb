{
 "cells": [
  {
   "cell_type": "code",
   "execution_count": null,
   "metadata": {
    "pycharm": {
     "name": "#%%\n"
    },
    "scrolled": false
   },
   "outputs": [],
   "source": [
    "'''\n",
    "This is a demo to show how to generate chains automatically, it contains:\n",
    "1) A function to generate the required chains\n",
    "2) A function to fill the matrix with zeros to make the height/width factorizable.\n",
    "\n",
    "We conduct experiments under 5 different settings:\n",
    "1) factorizable #channels + fast shrinking + bulging chains\n",
    "2) factorizable #channels + slow shrinking + bulging chains\n",
    "3) factorizable #channels + fast shrinking + monotonic chains\n",
    "4) factorizable #channels + slow shrinking + monotonic chains\n",
    "5) Padding a matrix to make the #channels factorizable\n",
    "\n",
    "Considering the network design in the reality, this demo assumes that the spatial\n",
    "size of the kernel is 3x3, and the number of input and output channels for each\n",
    "layer will not change steeply.\n",
    "\n",
    "Anonymous authors of DeBut, 10/08/2021.\n",
    "'''"
   ]
  },
  {
   "cell_type": "code",
   "execution_count": 1,
   "metadata": {
    "pycharm": {
     "name": "#%%\n"
    }
   },
   "outputs": [],
   "source": [
    "import numpy as np\n",
    "import math"
   ]
  },
  {
   "cell_type": "code",
   "execution_count": 2,
   "metadata": {
    "pycharm": {
     "name": "#%%\n"
    }
   },
   "outputs": [
    {
     "name": "stdout",
     "output_type": "stream",
     "text": [
      "Load the functions successfully!\n"
     ]
    }
   ],
   "source": [
    "# basic chain\n",
    "def AutoChain(matrix, type='monotonic', shrinking_speed=5):\n",
    "    '''\n",
    "    Input:\n",
    "        - matrix: a matrix, which is of size [c_out, k*c_in].\n",
    "        - type: a string, which indicates the type of chain.\n",
    "        - shrinking_speed: an integer, which decides the shrinking speed of the chain.\n",
    "        Larger the number, slower the shrinking speed. we suggest to set shrinking_speed\n",
    "        in the interval [4,8]. Please set this parameter properly according to the matrix\n",
    "        size.\n",
    "\n",
    "    Return:\n",
    "        - sup: a list, which is the superscripts of the factors from right to left.\n",
    "        - sub: a list, which is the subscripts of the factors from right to left.\n",
    "\n",
    "    The parameters r, s can be modified as well.\n",
    "    '''\n",
    "    h, w = matrix.shape\n",
    "    w_channel = w / (3*3)\n",
    "    sup = []\n",
    "    sub = []\n",
    "    if type == 'monotonic':\n",
    "        if h == w_channel:\n",
    "            sup.append([int(math.pow(2, 3+ np.ceil(np.log2(w_channel)))), w])\n",
    "            sub.append([int(math.pow(2, 3)), 3*3, 1])\n",
    "            for i in range(shrinking_speed-5):\n",
    "                sup.append([int(math.pow(2, 3+ np.ceil(np.log2(w_channel)))), int(math.pow(2, 3+ np.ceil(np.log2(w_channel))))])\n",
    "                rt = sub[-1][0] * sub[-1][2]\n",
    "                r = 2\n",
    "                s = 2\n",
    "                sub.append([r, s, rt])\n",
    "            for j in range(2):\n",
    "                sup.append([int(math.pow(2, 3+ np.ceil(np.log2(w_channel))-j-1)), int(math.pow(2, 3+np.ceil(np.log2(w_channel))-j))])\n",
    "                rt = sub[-1][0] * sub[-1][2]\n",
    "                r = 2\n",
    "                s = 4\n",
    "                sub.append([r, s, rt])\n",
    "            sup.append([int(h), int(h*2)])\n",
    "            rt = sub[-1][0] * sub[-1][2]\n",
    "            r = h / rt\n",
    "            s = h*2 / rt\n",
    "            sub.append([int(r), int(s), int(rt)])\n",
    "        elif h == w_channel / 2:\n",
    "            sup.append([int(math.pow(2, 3+ np.ceil(np.log2(w_channel)))), w])\n",
    "            sub.append([int(math.pow(2, 3)), 3*3, 1])\n",
    "            for i in range(shrinking_speed-5):\n",
    "                sup.append([int(math.pow(2, 3+ np.ceil(np.log2(w_channel)))), int(math.pow(2, 3+ np.ceil(np.log2(w_channel))))])\n",
    "                rt = rt = sub[-1][0] * sub[-1][2]\n",
    "                r = 2\n",
    "                s = 2\n",
    "                sub.append([r, s, rt])\n",
    "            for j in range(3):\n",
    "                sup.append([int(math.pow(2, 3+ np.ceil(np.log2(w_channel))-j-1)), int(math.pow(2, 3+np.ceil(np.log2(w_channel))-j))])\n",
    "                rt = sub[-1][0] * sub[-1][2]\n",
    "                r = 2\n",
    "                s = 4\n",
    "                sub.append([r, s, rt])\n",
    "            sup.append([int(h), int(h*2)])\n",
    "            rt = sub[-1][0] * sub[-1][2]\n",
    "            r = h / rt\n",
    "            s = h*2 / rt\n",
    "            sub.append([int(r), int(s), int(rt)])\n",
    "        elif h == w_channel * 2:\n",
    "            sup.append([int(math.pow(2, 3+ np.ceil(np.log2(w_channel)))), w])\n",
    "            sub.append([int(math.pow(2, 3)), 3*3, 1])\n",
    "            for i in range(shrinking_speed-3):\n",
    "                sup.append([int(math.pow(2, 3+ np.ceil(np.log2(w_channel)))), int(math.pow(2, 3+ np.ceil(np.log2(w_channel))))])\n",
    "                rt = rt = sub[-1][0] * sub[-1][2]\n",
    "                r = 2\n",
    "                s = 2\n",
    "                sub.append([r, s, rt])\n",
    "            for j in range(1):\n",
    "                sup.append([int(math.pow(2, 3+ np.ceil(np.log2(w_channel))-j-1)), int(math.pow(2, 3+np.ceil(np.log2(w_channel))-j))])\n",
    "                rt = sub[-1][0] * sub[-1][2]\n",
    "                r = 2\n",
    "                s = 4\n",
    "                sub.append([r, s, rt])\n",
    "            sup.append([int(h), int(h*2)])\n",
    "            rt = sub[-1][0] * sub[-1][2]\n",
    "            r = h / rt\n",
    "            s = h*2 / rt\n",
    "            sub.append([int(r), int(s), int(rt)])\n",
    "    elif type == 'bulging':\n",
    "        bulging_rate = 4/3\n",
    "        sup.append([int(math.pow(2, 3+ np.ceil(np.log2(w_channel))) * bulging_rate), w])\n",
    "        rt = 1\n",
    "        s = 6\n",
    "        r = s * bulging_rate\n",
    "        sub.append([int(r), int(s), int(rt)])\n",
    "        sup.append([int(math.pow(2, 3+ np.ceil(np.log2(w_channel)))), int(math.pow(2, 3+ np.ceil(np.log2(w_channel))) * bulging_rate)])\n",
    "        s = 6\n",
    "        r = s * bulging_rate / (2*2)\n",
    "        rt = sub[-1][0] * sub[-1][2]\n",
    "        sub.append([int(r), int(s), int(rt)])\n",
    "        if h == w_channel:\n",
    "            for i in range(shrinking_speed-5-1):\n",
    "                sup.append([int(math.pow(2, 3+ np.ceil(np.log2(w_channel)))), int(math.pow(2, 3+ np.ceil(np.log2(w_channel))))])\n",
    "                rt = sub[-1][0] * sub[-1][2]\n",
    "                r = 2\n",
    "                s = 2\n",
    "                sub.append([r, s, rt])\n",
    "            for j in range(2):\n",
    "                sup.append([int(math.pow(2, 3+ np.ceil(np.log2(w_channel))-j-1)), int(math.pow(2, 3+np.ceil(np.log2(w_channel))-j))])\n",
    "                rt = sub[-1][0] * sub[-1][2]\n",
    "                r = 2\n",
    "                s = 4\n",
    "                sub.append([r, s, rt])\n",
    "            sup.append([int(h), int(h*2)])\n",
    "            rt = sub[-1][0] * sub[-1][2]\n",
    "            r = h / rt\n",
    "            s = h*2 / rt\n",
    "            sub.append([int(r), int(s), int(rt)])\n",
    "        elif h == w_channel / 2:\n",
    "            for i in range(shrinking_speed-5-1):\n",
    "                sup.append([int(math.pow(2, 3+ np.ceil(np.log2(w_channel)))), int(math.pow(2, 3+ np.ceil(np.log2(w_channel))))])\n",
    "                rt = rt = sub[-1][0] * sub[-1][2]\n",
    "                r = 2\n",
    "                s = 2\n",
    "                sub.append([r, s, rt])\n",
    "            for j in range(3):\n",
    "                sup.append([int(math.pow(2, 3+ np.ceil(np.log2(w_channel))-j-1)), int(math.pow(2, 3+np.ceil(np.log2(w_channel))-j))])\n",
    "                rt = sub[-1][0] * sub[-1][2]\n",
    "                r = 2\n",
    "                s = 4\n",
    "                sub.append([r, s, rt])\n",
    "            sup.append([int(h), int(h*2)])\n",
    "            rt = sub[-1][0] * sub[-1][2]\n",
    "            r = h / rt\n",
    "            s = h*2 / rt\n",
    "            sub.append([int(r), int(s), int(rt)])\n",
    "        elif h == w_channel * 2:\n",
    "            for i in range(shrinking_speed-3-1):\n",
    "                sup.append([int(math.pow(2, 3+ np.ceil(np.log2(w_channel)))), int(math.pow(2, 3+ np.ceil(np.log2(w_channel))))])\n",
    "                rt = rt = sub[-1][0] * sub[-1][2]\n",
    "                r = 2\n",
    "                s = 2\n",
    "                sub.append([r, s, rt])\n",
    "            for j in range(1):\n",
    "                sup.append([int(math.pow(2, 3+ np.ceil(np.log2(w_channel))-j-1)), int(math.pow(2, 3+np.ceil(np.log2(w_channel))-j))])\n",
    "                rt = sub[-1][0] * sub[-1][2]\n",
    "                r = 2\n",
    "                s = 4\n",
    "                sub.append([r, s, rt])\n",
    "            sup.append([int(h), int(h*2)])\n",
    "            rt = sub[-1][0] * sub[-1][2]\n",
    "            r = h / rt\n",
    "            s = h*2 / rt\n",
    "            sub.append([int(r), int(s), int(rt)])\n",
    "    else:\n",
    "        assert 'Only monotonic or bulging chains!'\n",
    "    print('Chain Type: {}.'.format(type))\n",
    "    print('Shrinking Speed: {}.'.format(shrinking_speed))\n",
    "    print('Number of factors: {}.'.format(sub))\n",
    "    print('Superscript: {}.'.format(sup))\n",
    "    print('Subscript: {}.'.format(sub))\n",
    "    return sup, sub\n",
    "\n",
    "# padding function\n",
    "def PaddingMatrix(matrix1):\n",
    "    '''\n",
    "    Input:\n",
    "        - matrix1: a matrix, whose height/width is not factorizable\n",
    "    Output:\n",
    "        - matrix2: a matrix, whose height/width is factorizable.\n",
    "        compared with matrix1, the additional elements are zeros.\n",
    "    '''\n",
    "    h, w = matrix1.shape\n",
    "    w_channel = w / (3*3)\n",
    "    h_hat = math.pow(2, np.ceil((np.log2(h))))\n",
    "    w_hat = math.pow(2, np.ceil((np.log2(w_channel)))) * (3*3)\n",
    "    matrix2 = np.zeros([int(h_hat), int(w_hat)])\n",
    "    matrix2[:h, :w] = matrix1\n",
    "    print('The size of the flattened matrix now: {}.'.format(matrix2.shape))\n",
    "    return matrix2\n",
    "\n",
    "print('Load the functions successfully!')"
   ]
  },
  {
   "cell_type": "code",
   "execution_count": 3,
   "metadata": {
    "pycharm": {
     "name": "#%%\n"
    }
   },
   "outputs": [
    {
     "name": "stdout",
     "output_type": "stream",
     "text": [
      "Chain Type: bulging.\n",
      "Shrinking Speed: 5.\n",
      "Number of factors: [[8, 6, 1], [2, 6, 8], [2, 4, 16], [2, 4, 32], [4, 8, 64]].\n",
      "Superscript: [[2730, 2304], [2048, 2730], [1024, 2048], [512, 1024], [256, 512]].\n",
      "Subscript: [[8, 6, 1], [2, 6, 8], [2, 4, 16], [2, 4, 32], [4, 8, 64]].\n"
     ]
    }
   ],
   "source": [
    "# demo 1: factorizable #channels + fast shrinking + bulging chains\n",
    "matrix = np.random.rand(256, 2304)\n",
    "sup, sub = AutoChain(matrix, type='bulging', shrinking_speed=5)"
   ]
  },
  {
   "cell_type": "code",
   "execution_count": 4,
   "metadata": {
    "pycharm": {
     "name": "#%%\n"
    }
   },
   "outputs": [
    {
     "name": "stdout",
     "output_type": "stream",
     "text": [
      "Chain Type: bulging.\n",
      "Shrinking Speed: 8.\n",
      "Number of factors: [[8, 6, 1], [2, 6, 8], [2, 2, 16], [2, 2, 32], [2, 4, 64], [2, 4, 128], [1, 2, 256]].\n",
      "Superscript: [[2730, 2304], [2048, 2730], [2048, 2048], [2048, 2048], [1024, 2048], [512, 1024], [256, 512]].\n",
      "Subscript: [[8, 6, 1], [2, 6, 8], [2, 2, 16], [2, 2, 32], [2, 4, 64], [2, 4, 128], [1, 2, 256]].\n"
     ]
    }
   ],
   "source": [
    "# demo 2: factorizable #channels + slow shrinking + bulging chanis\n",
    "matrix = np.random.rand(256, 2304)\n",
    "sup, sub = AutoChain(matrix, type='bulging', shrinking_speed=8)"
   ]
  },
  {
   "cell_type": "code",
   "execution_count": 5,
   "metadata": {
    "pycharm": {
     "name": "#%%\n"
    }
   },
   "outputs": [
    {
     "name": "stdout",
     "output_type": "stream",
     "text": [
      "Chain Type: monotonic.\n",
      "Shrinking Speed: 4.\n",
      "Number of factors: [[8, 9, 1], [2, 4, 8], [2, 4, 16], [8, 16, 32]].\n",
      "Superscript: [[2048, 2304], [1024, 2048], [512, 1024], [256, 512]].\n",
      "Subscript: [[8, 9, 1], [2, 4, 8], [2, 4, 16], [8, 16, 32]].\n"
     ]
    }
   ],
   "source": [
    "# demo 3: factorizable #channels + fast shrinking + monotonic chains\n",
    "matrix = np.random.rand(256, 2304)\n",
    "sup, sub = AutoChain(matrix, type='monotonic', shrinking_speed=4)\n"
   ]
  },
  {
   "cell_type": "code",
   "execution_count": 6,
   "metadata": {
    "pycharm": {
     "name": "#%%\n"
    }
   },
   "outputs": [
    {
     "name": "stdout",
     "output_type": "stream",
     "text": [
      "Chain Type: monotonic.\n",
      "Shrinking Speed: 8.\n",
      "Number of factors: [[8, 9, 1], [2, 2, 8], [2, 2, 16], [2, 2, 32], [2, 4, 64], [2, 4, 128], [1, 2, 256]].\n",
      "Superscript: [[2048, 2304], [2048, 2048], [2048, 2048], [2048, 2048], [1024, 2048], [512, 1024], [256, 512]].\n",
      "Subscript: [[8, 9, 1], [2, 2, 8], [2, 2, 16], [2, 2, 32], [2, 4, 64], [2, 4, 128], [1, 2, 256]].\n"
     ]
    }
   ],
   "source": [
    "# demo 4: factorizable #channels + slow shrinking + monotonic chains\n",
    "matrix = np.random.rand(256, 2304)\n",
    "sup, sub = AutoChain(matrix, type='monotonic', shrinking_speed=8)"
   ]
  },
  {
   "cell_type": "code",
   "execution_count": 7,
   "metadata": {
    "pycharm": {
     "name": "#%%\n"
    }
   },
   "outputs": [
    {
     "name": "stdout",
     "output_type": "stream",
     "text": [
      "The size of the flattened matrix now: (128, 2304).\n"
     ]
    }
   ],
   "source": [
    "# demo 5: Padding a matrix to make the #channels factorizable\n",
    "matrix = np.random.rand(127,2231)\n",
    "matrix2 = PaddingMatrix(matrix)"
   ]
  }
 ],
 "metadata": {
  "kernelspec": {
   "display_name": "Python 3",
   "language": "python",
   "name": "python3"
  },
  "language_info": {
   "codemirror_mode": {
    "name": "ipython",
    "version": 3
   },
   "file_extension": ".py",
   "mimetype": "text/x-python",
   "name": "python",
   "nbconvert_exporter": "python",
   "pygments_lexer": "ipython3",
   "version": "3.7.6"
  }
 },
 "nbformat": 4,
 "nbformat_minor": 4
}
